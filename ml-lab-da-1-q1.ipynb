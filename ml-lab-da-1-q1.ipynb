{
 "cells": [
  {
   "cell_type": "code",
   "execution_count": 164,
   "id": "80fc5662",
   "metadata": {},
   "outputs": [],
   "source": [
    "import pandas as pd\n",
    "import numpy as np\n",
    "from sklearn.ensemble import RandomForestRegressor\n",
    "from sklearn.experimental import enable_iterative_imputer\n",
    "from sklearn.impute import IterativeImputer\n",
    "from sklearn.preprocessing import LabelEncoder\n"
   ]
  },
  {
   "cell_type": "code",
   "execution_count": 165,
   "id": "3206f5ae",
   "metadata": {},
   "outputs": [],
   "source": [
    "dataset=pd.read_csv(\"D:/7 sem/Machine Learning - Lab/country_vaccinations.csv\")"
   ]
  },
  {
   "cell_type": "code",
   "execution_count": null,
   "id": "14f29837",
   "metadata": {},
   "outputs": [],
   "source": []
  },
  {
   "cell_type": "code",
   "execution_count": 167,
   "id": "dac5c796",
   "metadata": {
    "scrolled": true
   },
   "outputs": [
    {
     "name": "stdout",
     "output_type": "stream",
     "text": [
      "   total_vaccinations  people_vaccinated  people_fully_vaccinated  \\\n",
      "0        0.000000e+00       0.000000e+00            -3.571477e+05   \n",
      "1        2.483294e+07       1.114403e+07             1.113536e+07   \n",
      "2        2.483294e+07       1.114403e+07             1.113536e+07   \n",
      "3        2.483294e+07       1.114403e+07             1.113536e+07   \n",
      "4        2.483294e+07       1.114403e+07             1.113536e+07   \n",
      "\n",
      "   daily_vaccinations_raw  daily_vaccinations  total_vaccinations_per_hundred  \\\n",
      "0             7636.702977         2069.904904                        0.000000   \n",
      "1             5409.784456         1367.000000                       77.540579   \n",
      "2             5409.784456         1367.000000                       77.540579   \n",
      "3             5409.784456         1367.000000                       77.540579   \n",
      "4             5409.784456         1367.000000                       77.540579   \n",
      "\n",
      "   people_vaccinated_per_hundred  people_fully_vaccinated_per_hundred  \\\n",
      "0                       0.000000                             -1.27369   \n",
      "1                      36.943081                             33.73911   \n",
      "2                      36.943081                             33.73911   \n",
      "3                      36.943081                             33.73911   \n",
      "4                      36.943081                             33.73911   \n",
      "\n",
      "   daily_vaccinations_per_million  \n",
      "0                     -225.327117  \n",
      "1                       34.000000  \n",
      "2                       34.000000  \n",
      "3                       34.000000  \n",
      "4                       34.000000  \n"
     ]
    },
    {
     "name": "stderr",
     "output_type": "stream",
     "text": [
      "D:\\condaa\\lib\\site-packages\\sklearn\\impute\\_iterative.py:699: ConvergenceWarning: [IterativeImputer] Early stopping criterion not reached.\n",
      "  warnings.warn(\n"
     ]
    }
   ],
   "source": [
    "\n",
    "# Drop non-numeric columns (such as 'country', 'iso_code', 'date', 'vaccines', 'source_name', 'source_website')\n",
    "numeric_data = dataset.drop(['country', 'iso_code', 'date', 'vaccines', 'source_name', 'source_website'], axis=1)\n",
    "\n",
    "# Initialize the IterativeImputer\n",
    "imputer = IterativeImputer(max_iter=10, random_state=0)\n",
    "\n",
    "# Impute missing values\n",
    "imputed_data = imputer.fit_transform(numeric_data)\n",
    "\n",
    "# Convert the imputed data back to a DataFrame\n",
    "imputed_df = pd.DataFrame(imputed_data, columns=numeric_data.columns)\n",
    "\n",
    "# Display the first few rows of the imputed DataFrame\n",
    "print(imputed_df.head())\n"
   ]
  },
  {
   "cell_type": "code",
   "execution_count": 168,
   "id": "b57af7a3",
   "metadata": {},
   "outputs": [
    {
     "data": {
      "text/plain": [
       "42905"
      ]
     },
     "execution_count": 168,
     "metadata": {},
     "output_type": "execute_result"
    }
   ],
   "source": [
    "dataset['total_vaccinations'].isnull().sum()"
   ]
  },
  {
   "cell_type": "code",
   "execution_count": 169,
   "id": "7a652116",
   "metadata": {},
   "outputs": [
    {
     "data": {
      "text/plain": [
       "0        0.0\n",
       "1        NaN\n",
       "2        NaN\n",
       "3        NaN\n",
       "4        NaN\n",
       "5        NaN\n",
       "6     8200.0\n",
       "7        NaN\n",
       "8        NaN\n",
       "9        NaN\n",
       "10       NaN\n",
       "11       NaN\n",
       "12       NaN\n",
       "13       NaN\n",
       "14       NaN\n",
       "15       NaN\n",
       "16       NaN\n",
       "17       NaN\n",
       "18       NaN\n",
       "19       NaN\n",
       "Name: total_vaccinations, dtype: float64"
      ]
     },
     "execution_count": 169,
     "metadata": {},
     "output_type": "execute_result"
    }
   ],
   "source": [
    "dataset['total_vaccinations'].head(20)"
   ]
  },
  {
   "cell_type": "code",
   "execution_count": 170,
   "id": "be6e79ea",
   "metadata": {},
   "outputs": [
    {
     "data": {
      "text/plain": [
       "42905"
      ]
     },
     "execution_count": 170,
     "metadata": {},
     "output_type": "execute_result"
    }
   ],
   "source": [
    "dataset['total_vaccinations'].isnull().sum()"
   ]
  },
  {
   "cell_type": "code",
   "execution_count": 171,
   "id": "ecce64c5",
   "metadata": {},
   "outputs": [
    {
     "name": "stdout",
     "output_type": "stream",
     "text": [
      "Jeevaa - 20BCE2414\n"
     ]
    }
   ],
   "source": [
    "print(\"Jeevaa - 20BCE2414\")"
   ]
  },
  {
   "cell_type": "code",
   "execution_count": 172,
   "id": "6ed7e98b",
   "metadata": {},
   "outputs": [
    {
     "data": {
      "text/plain": [
       "country                                    0\n",
       "iso_code                                   0\n",
       "date                                       0\n",
       "total_vaccinations                     42905\n",
       "people_vaccinated                      45218\n",
       "people_fully_vaccinated                47710\n",
       "daily_vaccinations_raw                 51150\n",
       "daily_vaccinations                       299\n",
       "total_vaccinations_per_hundred         42905\n",
       "people_vaccinated_per_hundred          45218\n",
       "people_fully_vaccinated_per_hundred    47710\n",
       "daily_vaccinations_per_million           299\n",
       "vaccines                                   0\n",
       "source_name                                0\n",
       "source_website                             0\n",
       "dtype: int64"
      ]
     },
     "execution_count": 172,
     "metadata": {},
     "output_type": "execute_result"
    }
   ],
   "source": [
    "dataset.isnull().sum()"
   ]
  },
  {
   "cell_type": "code",
   "execution_count": 173,
   "id": "49ef819d",
   "metadata": {},
   "outputs": [
    {
     "data": {
      "text/plain": [
       "299"
      ]
     },
     "execution_count": 173,
     "metadata": {},
     "output_type": "execute_result"
    }
   ],
   "source": [
    "dataset['daily_vaccinations'].isnull().sum()"
   ]
  },
  {
   "cell_type": "code",
   "execution_count": 174,
   "id": "8fd62e9b",
   "metadata": {},
   "outputs": [],
   "source": [
    "dataset['iso_code']=dataset['iso_code'].fillna('zzzzz')"
   ]
  },
  {
   "cell_type": "code",
   "execution_count": 175,
   "id": "f01a8305",
   "metadata": {},
   "outputs": [
    {
     "data": {
      "text/plain": [
       "0     AFG\n",
       "1     AFG\n",
       "2     AFG\n",
       "3     AFG\n",
       "4     AFG\n",
       "5     AFG\n",
       "6     AFG\n",
       "7     AFG\n",
       "8     AFG\n",
       "9     AFG\n",
       "10    AFG\n",
       "11    AFG\n",
       "12    AFG\n",
       "13    AFG\n",
       "14    AFG\n",
       "15    AFG\n",
       "16    AFG\n",
       "17    AFG\n",
       "18    AFG\n",
       "19    AFG\n",
       "Name: iso_code, dtype: object"
      ]
     },
     "execution_count": 175,
     "metadata": {},
     "output_type": "execute_result"
    }
   ],
   "source": [
    "dataset['iso_code'].head(20)"
   ]
  },
  {
   "cell_type": "code",
   "execution_count": 176,
   "id": "0c7a5769",
   "metadata": {},
   "outputs": [
    {
     "data": {
      "text/plain": [
       "0"
      ]
     },
     "execution_count": 176,
     "metadata": {},
     "output_type": "execute_result"
    }
   ],
   "source": [
    "dataset['iso_code'].isnull().sum()"
   ]
  },
  {
   "cell_type": "code",
   "execution_count": null,
   "id": "dc83b36f",
   "metadata": {},
   "outputs": [],
   "source": []
  },
  {
   "cell_type": "code",
   "execution_count": 177,
   "id": "58bc496e",
   "metadata": {},
   "outputs": [
    {
     "name": "stdout",
     "output_type": "stream",
     "text": [
      "Number of remaining missing values: 0\n"
     ]
    }
   ],
   "source": [
    "dataset['total_vaccinations'].interpolate(method='linear', inplace=True)\n",
    "\n",
    "# Check if there are any remaining missing values\n",
    "remaining_missing = dataset['total_vaccinations'].isnull().sum()\n",
    "print(\"Number of remaining missing values:\", remaining_missing)"
   ]
  },
  {
   "cell_type": "code",
   "execution_count": 178,
   "id": "1d95a73d",
   "metadata": {},
   "outputs": [
    {
     "name": "stdout",
     "output_type": "stream",
     "text": [
      "Jeevaa - 20BCE2414\n"
     ]
    }
   ],
   "source": [
    "print(\"Jeevaa - 20BCE2414\")"
   ]
  }
 ],
 "metadata": {
  "kernelspec": {
   "display_name": "Python 3 (ipykernel)",
   "language": "python",
   "name": "python3"
  },
  "language_info": {
   "codemirror_mode": {
    "name": "ipython",
    "version": 3
   },
   "file_extension": ".py",
   "mimetype": "text/x-python",
   "name": "python",
   "nbconvert_exporter": "python",
   "pygments_lexer": "ipython3",
   "version": "3.9.13"
  }
 },
 "nbformat": 4,
 "nbformat_minor": 5
}
