{
  "nbformat": 4,
  "nbformat_minor": 0,
  "metadata": {
    "colab": {
      "provenance": [],
      "authorship_tag": "ABX9TyO10cChnhyBIwN7sxqE4wmq",
      "include_colab_link": true
    },
    "kernelspec": {
      "name": "python3",
      "display_name": "Python 3"
    },
    "language_info": {
      "name": "python"
    }
  },
  "cells": [
    {
      "cell_type": "markdown",
      "metadata": {
        "id": "view-in-github",
        "colab_type": "text"
      },
      "source": [
        "<a href=\"https://colab.research.google.com/github/jeevsssss/artificial-Intelligence/blob/main/tamil_news_tagging.ipynb\" target=\"_parent\"><img src=\"https://colab.research.google.com/assets/colab-badge.svg\" alt=\"Open In Colab\"/></a>"
      ]
    },
    {
      "cell_type": "code",
      "execution_count": 7,
      "metadata": {
        "id": "SFex0uBd9fM7"
      },
      "outputs": [],
      "source": [
        "import numpy as np\n",
        "import pandas as pd\n",
        "import matplotlib.pyplot as plt\n",
        "import nltk\n",
        "import seaborn as sns\n",
        "from nltk.corpus import stopwords\n",
        "from nltk.tokenize import word_tokenize\n",
        "from sklearn.model_selection import train_test_split\n",
        "from sklearn.preprocessing import LabelBinarizer\n",
        "from keras.preprocessing.text import Tokenizer\n",
        "from tensorflow.keras.preprocessing.sequence import pad_sequences\n",
        "from sklearn.feature_extraction.text import TfidfVectorizer\n",
        "from keras.layers import SpatialDropout1D\n",
        "from keras.utils import to_categorical\n",
        "from sklearn.metrics import classification_report\n",
        "from sklearn.metrics import roc_auc_score\n",
        "from sklearn.metrics import roc_curve\n",
        "from sklearn.metrics import precision_recall_curve\n",
        "from sklearn.model_selection import GridSearchCV\n",
        "from keras.models import Sequential\n",
        "from keras.layers import Dense\n",
        "from keras.layers import LSTM\n",
        "from tensorflow.keras.layers import Embedding\n",
        "from keras.preprocessing import sequence\n",
        "from sklearn.feature_selection import RFE\n",
        "import re\n",
        "from IPython.core.interactiveshell import InteractiveShell\n",
        "InteractiveShell.ast_node_interactivity = \"all\""
      ]
    },
    {
      "cell_type": "code",
      "source": [
        "train = pd.read_csv('tamil_news_train.csv')\n",
        "test = pd.read_csv('tamil_news_test.csv')"
      ],
      "metadata": {
        "id": "tATcQqYU-1YE"
      },
      "execution_count": 8,
      "outputs": []
    },
    {
      "cell_type": "code",
      "source": [
        "np.random.seed(7)\n",
        "train = train.drop_duplicates().reset_index(drop=True)\n",
        "test = test.drop_duplicates().reset_index(drop=True)"
      ],
      "metadata": {
        "id": "IAF1Bv3R_0W0"
      },
      "execution_count": 9,
      "outputs": []
    },
    {
      "cell_type": "code",
      "source": [
        "train.NewsInTamil = train.NewsInTamil.str.replace('\\d+', ' ')\n",
        "test.NewsInTamil = test.NewsInTamil.str.replace('\\d+', ' ')\n",
        "train = train.append(test)\n",
        "df = train\n",
        "df.head()\n",
        "df.shape"
      ],
      "metadata": {
        "colab": {
          "base_uri": "https://localhost:8080/",
          "height": 434
        },
        "id": "g0KSm4HYAHr3",
        "outputId": "2559607f-ef13-4a43-e02c-5de439375f46"
      },
      "execution_count": 11,
      "outputs": [
        {
          "output_type": "stream",
          "name": "stderr",
          "text": [
            "<ipython-input-11-fab72a5735ef>:1: FutureWarning: The default value of regex will change from True to False in a future version.\n",
            "  train.NewsInTamil = train.NewsInTamil.str.replace('\\d+', ' ')\n",
            "<ipython-input-11-fab72a5735ef>:2: FutureWarning: The default value of regex will change from True to False in a future version.\n",
            "  test.NewsInTamil = test.NewsInTamil.str.replace('\\d+', ' ')\n",
            "<ipython-input-11-fab72a5735ef>:3: FutureWarning: The frame.append method is deprecated and will be removed from pandas in a future version. Use pandas.concat instead.\n",
            "  train = train.append(test)\n"
          ]
        },
        {
          "output_type": "execute_result",
          "data": {
            "text/plain": [
              "                                       NewsInEnglish  \\\n",
              "0  2017/May/19941-miss-iraq-competition-after-43-...   \n",
              "1  2018/Dec/55921-viswasam-s-rustic-folk-song-has...   \n",
              "2  2018/Dec/55929-inspector-who-bought-insurance-...   \n",
              "3            2017/Jan/16161-morarji-desai-budget.txt   \n",
              "4  2018/Jun/46476-i-have-not-joined-bjp-or-anyoth...   \n",
              "\n",
              "                                         NewsInTamil   Category  \\\n",
              "0          ஈராக்கில்   ஆண்டுகள் கழித்து அழகிப்போட்டி      world   \n",
              "1  இந்திய அளவில் ட்ரெண்ட் ஆன அஜித்தின் ‘தள்லே தில...     cinema   \n",
              "2  சொந்த செலவில் வாகன காப்பீடு எடுத்து கொடுத்த கா...  tamilnadu   \n",
              "3              பிறந்தநாளில் பட்ஜெட் தாக்கல் செய்தவர்      india   \n",
              "4  “நானா? பாஜகவில் இணைந்துவிட்டேனா” - வரலட்சுமி வ...     cinema   \n",
              "\n",
              "  CategoryInTamil  \n",
              "0           உலகம்  \n",
              "1          சினிமா  \n",
              "2       தமிழ்நாடு  \n",
              "3         இந்தியா  \n",
              "4          சினிமா  "
            ],
            "text/html": [
              "\n",
              "  <div id=\"df-94277ef2-9b90-4071-b721-823d441900cd\" class=\"colab-df-container\">\n",
              "    <div>\n",
              "<style scoped>\n",
              "    .dataframe tbody tr th:only-of-type {\n",
              "        vertical-align: middle;\n",
              "    }\n",
              "\n",
              "    .dataframe tbody tr th {\n",
              "        vertical-align: top;\n",
              "    }\n",
              "\n",
              "    .dataframe thead th {\n",
              "        text-align: right;\n",
              "    }\n",
              "</style>\n",
              "<table border=\"1\" class=\"dataframe\">\n",
              "  <thead>\n",
              "    <tr style=\"text-align: right;\">\n",
              "      <th></th>\n",
              "      <th>NewsInEnglish</th>\n",
              "      <th>NewsInTamil</th>\n",
              "      <th>Category</th>\n",
              "      <th>CategoryInTamil</th>\n",
              "    </tr>\n",
              "  </thead>\n",
              "  <tbody>\n",
              "    <tr>\n",
              "      <th>0</th>\n",
              "      <td>2017/May/19941-miss-iraq-competition-after-43-...</td>\n",
              "      <td>ஈராக்கில்   ஆண்டுகள் கழித்து அழகிப்போட்டி</td>\n",
              "      <td>world</td>\n",
              "      <td>உலகம்</td>\n",
              "    </tr>\n",
              "    <tr>\n",
              "      <th>1</th>\n",
              "      <td>2018/Dec/55921-viswasam-s-rustic-folk-song-has...</td>\n",
              "      <td>இந்திய அளவில் ட்ரெண்ட் ஆன அஜித்தின் ‘தள்லே தில...</td>\n",
              "      <td>cinema</td>\n",
              "      <td>சினிமா</td>\n",
              "    </tr>\n",
              "    <tr>\n",
              "      <th>2</th>\n",
              "      <td>2018/Dec/55929-inspector-who-bought-insurance-...</td>\n",
              "      <td>சொந்த செலவில் வாகன காப்பீடு எடுத்து கொடுத்த கா...</td>\n",
              "      <td>tamilnadu</td>\n",
              "      <td>தமிழ்நாடு</td>\n",
              "    </tr>\n",
              "    <tr>\n",
              "      <th>3</th>\n",
              "      <td>2017/Jan/16161-morarji-desai-budget.txt</td>\n",
              "      <td>பிறந்தநாளில் பட்ஜெட் தாக்கல் செய்தவர்</td>\n",
              "      <td>india</td>\n",
              "      <td>இந்தியா</td>\n",
              "    </tr>\n",
              "    <tr>\n",
              "      <th>4</th>\n",
              "      <td>2018/Jun/46476-i-have-not-joined-bjp-or-anyoth...</td>\n",
              "      <td>“நானா? பாஜகவில் இணைந்துவிட்டேனா” - வரலட்சுமி வ...</td>\n",
              "      <td>cinema</td>\n",
              "      <td>சினிமா</td>\n",
              "    </tr>\n",
              "  </tbody>\n",
              "</table>\n",
              "</div>\n",
              "    <div class=\"colab-df-buttons\">\n",
              "\n",
              "  <div class=\"colab-df-container\">\n",
              "    <button class=\"colab-df-convert\" onclick=\"convertToInteractive('df-94277ef2-9b90-4071-b721-823d441900cd')\"\n",
              "            title=\"Convert this dataframe to an interactive table.\"\n",
              "            style=\"display:none;\">\n",
              "\n",
              "  <svg xmlns=\"http://www.w3.org/2000/svg\" height=\"24px\" viewBox=\"0 -960 960 960\">\n",
              "    <path d=\"M120-120v-720h720v720H120Zm60-500h600v-160H180v160Zm220 220h160v-160H400v160Zm0 220h160v-160H400v160ZM180-400h160v-160H180v160Zm440 0h160v-160H620v160ZM180-180h160v-160H180v160Zm440 0h160v-160H620v160Z\"/>\n",
              "  </svg>\n",
              "    </button>\n",
              "\n",
              "  <style>\n",
              "    .colab-df-container {\n",
              "      display:flex;\n",
              "      gap: 12px;\n",
              "    }\n",
              "\n",
              "    .colab-df-convert {\n",
              "      background-color: #E8F0FE;\n",
              "      border: none;\n",
              "      border-radius: 50%;\n",
              "      cursor: pointer;\n",
              "      display: none;\n",
              "      fill: #1967D2;\n",
              "      height: 32px;\n",
              "      padding: 0 0 0 0;\n",
              "      width: 32px;\n",
              "    }\n",
              "\n",
              "    .colab-df-convert:hover {\n",
              "      background-color: #E2EBFA;\n",
              "      box-shadow: 0px 1px 2px rgba(60, 64, 67, 0.3), 0px 1px 3px 1px rgba(60, 64, 67, 0.15);\n",
              "      fill: #174EA6;\n",
              "    }\n",
              "\n",
              "    .colab-df-buttons div {\n",
              "      margin-bottom: 4px;\n",
              "    }\n",
              "\n",
              "    [theme=dark] .colab-df-convert {\n",
              "      background-color: #3B4455;\n",
              "      fill: #D2E3FC;\n",
              "    }\n",
              "\n",
              "    [theme=dark] .colab-df-convert:hover {\n",
              "      background-color: #434B5C;\n",
              "      box-shadow: 0px 1px 3px 1px rgba(0, 0, 0, 0.15);\n",
              "      filter: drop-shadow(0px 1px 2px rgba(0, 0, 0, 0.3));\n",
              "      fill: #FFFFFF;\n",
              "    }\n",
              "  </style>\n",
              "\n",
              "    <script>\n",
              "      const buttonEl =\n",
              "        document.querySelector('#df-94277ef2-9b90-4071-b721-823d441900cd button.colab-df-convert');\n",
              "      buttonEl.style.display =\n",
              "        google.colab.kernel.accessAllowed ? 'block' : 'none';\n",
              "\n",
              "      async function convertToInteractive(key) {\n",
              "        const element = document.querySelector('#df-94277ef2-9b90-4071-b721-823d441900cd');\n",
              "        const dataTable =\n",
              "          await google.colab.kernel.invokeFunction('convertToInteractive',\n",
              "                                                    [key], {});\n",
              "        if (!dataTable) return;\n",
              "\n",
              "        const docLinkHtml = 'Like what you see? Visit the ' +\n",
              "          '<a target=\"_blank\" href=https://colab.research.google.com/notebooks/data_table.ipynb>data table notebook</a>'\n",
              "          + ' to learn more about interactive tables.';\n",
              "        element.innerHTML = '';\n",
              "        dataTable['output_type'] = 'display_data';\n",
              "        await google.colab.output.renderOutput(dataTable, element);\n",
              "        const docLink = document.createElement('div');\n",
              "        docLink.innerHTML = docLinkHtml;\n",
              "        element.appendChild(docLink);\n",
              "      }\n",
              "    </script>\n",
              "  </div>\n",
              "\n",
              "\n",
              "<div id=\"df-e9ea687c-39f7-40e0-b4c9-acb8c6877e51\">\n",
              "  <button class=\"colab-df-quickchart\" onclick=\"quickchart('df-e9ea687c-39f7-40e0-b4c9-acb8c6877e51')\"\n",
              "            title=\"Suggest charts.\"\n",
              "            style=\"display:none;\">\n",
              "\n",
              "<svg xmlns=\"http://www.w3.org/2000/svg\" height=\"24px\"viewBox=\"0 0 24 24\"\n",
              "     width=\"24px\">\n",
              "    <g>\n",
              "        <path d=\"M19 3H5c-1.1 0-2 .9-2 2v14c0 1.1.9 2 2 2h14c1.1 0 2-.9 2-2V5c0-1.1-.9-2-2-2zM9 17H7v-7h2v7zm4 0h-2V7h2v10zm4 0h-2v-4h2v4z\"/>\n",
              "    </g>\n",
              "</svg>\n",
              "  </button>\n",
              "\n",
              "<style>\n",
              "  .colab-df-quickchart {\n",
              "    background-color: #E8F0FE;\n",
              "    border: none;\n",
              "    border-radius: 50%;\n",
              "    cursor: pointer;\n",
              "    display: none;\n",
              "    fill: #1967D2;\n",
              "    height: 32px;\n",
              "    padding: 0 0 0 0;\n",
              "    width: 32px;\n",
              "  }\n",
              "\n",
              "  .colab-df-quickchart:hover {\n",
              "    background-color: #E2EBFA;\n",
              "    box-shadow: 0px 1px 2px rgba(60, 64, 67, 0.3), 0px 1px 3px 1px rgba(60, 64, 67, 0.15);\n",
              "    fill: #174EA6;\n",
              "  }\n",
              "\n",
              "  [theme=dark] .colab-df-quickchart {\n",
              "    background-color: #3B4455;\n",
              "    fill: #D2E3FC;\n",
              "  }\n",
              "\n",
              "  [theme=dark] .colab-df-quickchart:hover {\n",
              "    background-color: #434B5C;\n",
              "    box-shadow: 0px 1px 3px 1px rgba(0, 0, 0, 0.15);\n",
              "    filter: drop-shadow(0px 1px 2px rgba(0, 0, 0, 0.3));\n",
              "    fill: #FFFFFF;\n",
              "  }\n",
              "</style>\n",
              "\n",
              "  <script>\n",
              "    async function quickchart(key) {\n",
              "      const charts = await google.colab.kernel.invokeFunction(\n",
              "          'suggestCharts', [key], {});\n",
              "    }\n",
              "    (() => {\n",
              "      let quickchartButtonEl =\n",
              "        document.querySelector('#df-e9ea687c-39f7-40e0-b4c9-acb8c6877e51 button');\n",
              "      quickchartButtonEl.style.display =\n",
              "        google.colab.kernel.accessAllowed ? 'block' : 'none';\n",
              "    })();\n",
              "  </script>\n",
              "</div>\n",
              "    </div>\n",
              "  </div>\n"
            ]
          },
          "metadata": {},
          "execution_count": 11
        },
        {
          "output_type": "execute_result",
          "data": {
            "text/plain": [
              "(17331, 4)"
            ]
          },
          "metadata": {},
          "execution_count": 11
        }
      ]
    },
    {
      "cell_type": "code",
      "source": [
        "df.Category.unique()"
      ],
      "metadata": {
        "colab": {
          "base_uri": "https://localhost:8080/"
        },
        "id": "St3rT5kLAOqZ",
        "outputId": "b50baeb5-7cc7-429b-bf0b-99b4aa169746"
      },
      "execution_count": 12,
      "outputs": [
        {
          "output_type": "execute_result",
          "data": {
            "text/plain": [
              "array(['world', 'cinema', 'tamilnadu', 'india', 'politics', 'sports'],\n",
              "      dtype=object)"
            ]
          },
          "metadata": {},
          "execution_count": 12
        }
      ]
    },
    {
      "cell_type": "code",
      "source": [
        "df.Category = df.Category.replace('world', 1)\n",
        "df.Category = df.Category.replace('cinema', 2)\n",
        "df.Category = df.Category.replace('tamilnadu', 3)\n",
        "df.Category = df.Category.replace('india', 4)\n",
        "df.Category = df.Category.replace('politics', 5)\n",
        "df.Category = df.Category.replace('sports', 6)\n",
        "df.Category.head()"
      ],
      "metadata": {
        "colab": {
          "base_uri": "https://localhost:8080/"
        },
        "id": "KIWpy6nLAVN9",
        "outputId": "6313a2d2-adec-4c23-e97e-044dcdc93815"
      },
      "execution_count": 13,
      "outputs": [
        {
          "output_type": "execute_result",
          "data": {
            "text/plain": [
              "0    1\n",
              "1    2\n",
              "2    3\n",
              "3    4\n",
              "4    2\n",
              "Name: Category, dtype: int64"
            ]
          },
          "metadata": {},
          "execution_count": 13
        }
      ]
    },
    {
      "cell_type": "code",
      "source": [
        "# The maximum number of words to be used. (most frequent)\n",
        "MAX_NB_WORDS = 32000\n",
        "# Max number of words in each complaint.\n",
        "MAX_SEQUENCE_LENGTH = 120\n",
        "# This is fixed.\n",
        "EMBEDDING_DIM = 100\n",
        "tokenizer = Tokenizer(num_words=MAX_NB_WORDS, filters='!\"#$%&()*+,-./:;<=>?@[\\]^_`{|}~', lower=False)\n",
        "tokenizer.fit_on_texts(df.NewsInTamil.values)\n",
        "word_index = tokenizer.word_index\n",
        "print('Found %s unique tokens.' % len(word_index))"
      ],
      "metadata": {
        "colab": {
          "base_uri": "https://localhost:8080/"
        },
        "id": "7KDXjQprAXNV",
        "outputId": "0e87ee8c-7ae8-41d3-d761-a4790fcb2402"
      },
      "execution_count": 14,
      "outputs": [
        {
          "output_type": "stream",
          "name": "stdout",
          "text": [
            "Found 22904 unique tokens.\n"
          ]
        }
      ]
    },
    {
      "cell_type": "code",
      "source": [
        "X = tokenizer.texts_to_sequences(df.NewsInTamil.values)\n",
        "X = pad_sequences(X, maxlen=MAX_SEQUENCE_LENGTH)\n",
        "print('Shape of data tensor:', X.shape)"
      ],
      "metadata": {
        "colab": {
          "base_uri": "https://localhost:8080/"
        },
        "id": "fgjpxkIaAd9_",
        "outputId": "bc52b701-09b5-46fd-f510-cd4f03a0fefe"
      },
      "execution_count": 15,
      "outputs": [
        {
          "output_type": "stream",
          "name": "stdout",
          "text": [
            "Shape of data tensor: (17331, 120)\n"
          ]
        }
      ]
    },
    {
      "cell_type": "code",
      "source": [
        "Y = pd.get_dummies(df.Category).values\n",
        "print('Shape of label tensor:', Y.shape)"
      ],
      "metadata": {
        "colab": {
          "base_uri": "https://localhost:8080/"
        },
        "id": "pmD9qBKHAg-7",
        "outputId": "33d03710-cd1d-450e-cb97-5ac7329855b7"
      },
      "execution_count": 16,
      "outputs": [
        {
          "output_type": "stream",
          "name": "stdout",
          "text": [
            "Shape of label tensor: (17331, 6)\n"
          ]
        }
      ]
    },
    {
      "cell_type": "code",
      "source": [
        "train_features, test_features, train_labels, test_labels = train_test_split(X, Y, test_size=.10)"
      ],
      "metadata": {
        "id": "SsiBsJEOAkCw"
      },
      "execution_count": 17,
      "outputs": []
    },
    {
      "cell_type": "code",
      "source": [
        "model = Sequential()\n",
        "model.add(Embedding(MAX_NB_WORDS, EMBEDDING_DIM, input_length=X.shape[1]))\n",
        "model.add(SpatialDropout1D(0.2))\n",
        "model.add(LSTM(100, dropout=0.2, recurrent_dropout=0.2))\n",
        "model.add(Dense(6, activation='softmax'))\n",
        "model.compile(loss='categorical_crossentropy', optimizer='adam', metrics=['accuracy'])\n",
        "history = model.fit(train_features, train_labels, epochs=5, batch_size=32,validation_split=0.2)\n",
        "model_pred_train = model.predict(train_features)\n",
        "model_pred_test = model.predict(test_features)\n",
        "# print(classification_report(test_labels,model_pred_test))\n",
        "print('LSTM Recurrent Neural Network baseline: ' + str(roc_auc_score(train_labels, model_pred_train)))\n",
        "print('LSTM Recurrent Neural Network: ' + str(roc_auc_score(test_labels, model_pred_test)))"
      ],
      "metadata": {
        "colab": {
          "base_uri": "https://localhost:8080/"
        },
        "id": "wtp92CAJAlcJ",
        "outputId": "4f219e9b-356d-4ad6-a2f2-1af4e5ff3b8d"
      },
      "execution_count": 18,
      "outputs": [
        {
          "output_type": "stream",
          "name": "stdout",
          "text": [
            "Epoch 1/5\n",
            "390/390 [==============================] - 155s 387ms/step - loss: 1.2449 - accuracy: 0.5241 - val_loss: 0.8151 - val_accuracy: 0.7276\n",
            "Epoch 2/5\n",
            "390/390 [==============================] - 140s 360ms/step - loss: 0.4072 - accuracy: 0.8642 - val_loss: 0.6201 - val_accuracy: 0.7942\n",
            "Epoch 3/5\n",
            "390/390 [==============================] - 141s 361ms/step - loss: 0.1169 - accuracy: 0.9655 - val_loss: 0.7369 - val_accuracy: 0.7984\n",
            "Epoch 4/5\n",
            "390/390 [==============================] - 143s 366ms/step - loss: 0.0468 - accuracy: 0.9869 - val_loss: 0.7804 - val_accuracy: 0.7856\n",
            "Epoch 5/5\n",
            "390/390 [==============================] - 144s 369ms/step - loss: 0.0225 - accuracy: 0.9939 - val_loss: 0.9239 - val_accuracy: 0.7942\n",
            "488/488 [==============================] - 23s 46ms/step\n",
            "55/55 [==============================] - 2s 40ms/step\n",
            "LSTM Recurrent Neural Network baseline: 0.9946180744444861\n",
            "LSTM Recurrent Neural Network: 0.94599502827083\n"
          ]
        }
      ]
    },
    {
      "cell_type": "code",
      "source": [
        "model.save_weights('tamil_news_classification.h5')"
      ],
      "metadata": {
        "id": "fkGV1lF_DsXA"
      },
      "execution_count": 19,
      "outputs": []
    },
    {
      "cell_type": "code",
      "source": [
        "plt.title('Loss')\n",
        "plt.plot(history.history['loss'], label='train')\n",
        "plt.plot(history.history['val_loss'], label='test')\n",
        "plt.legend()\n",
        "plt.show()\n",
        "plt.title('Accuracy')\n",
        "plt.plot(history.history['accuracy'], label='train')\n",
        "plt.plot(history.history['val_accuracy'], label='test')\n",
        "plt.legend()\n",
        "plt.show()"
      ],
      "metadata": {
        "colab": {
          "base_uri": "https://localhost:8080/",
          "height": 956
        },
        "id": "TTeDB3NRDylb",
        "outputId": "caf408be-8478-427e-ea5b-649f129f488c"
      },
      "execution_count": 20,
      "outputs": [
        {
          "output_type": "execute_result",
          "data": {
            "text/plain": [
              "Text(0.5, 1.0, 'Loss')"
            ]
          },
          "metadata": {},
          "execution_count": 20
        },
        {
          "output_type": "execute_result",
          "data": {
            "text/plain": [
              "[<matplotlib.lines.Line2D at 0x7db961e44a00>]"
            ]
          },
          "metadata": {},
          "execution_count": 20
        },
        {
          "output_type": "execute_result",
          "data": {
            "text/plain": [
              "[<matplotlib.lines.Line2D at 0x7db961e44cd0>]"
            ]
          },
          "metadata": {},
          "execution_count": 20
        },
        {
          "output_type": "execute_result",
          "data": {
            "text/plain": [
              "<matplotlib.legend.Legend at 0x7db961e44820>"
            ]
          },
          "metadata": {},
          "execution_count": 20
        },
        {
          "output_type": "display_data",
          "data": {
            "text/plain": [
              "<Figure size 640x480 with 1 Axes>"
            ],
            "image/png": "[encoded data removed]"
          },
          "metadata": {}
        },
        {
          "output_type": "execute_result",
          "data": {
            "text/plain": [
              "Text(0.5, 1.0, 'Accuracy')"
            ]
          },
          "metadata": {},
          "execution_count": 20
        },
        {
          "output_type": "execute_result",
          "data": {
            "text/plain": [
              "[<matplotlib.lines.Line2D at 0x7db962712860>]"
            ]
          },
          "metadata": {},
          "execution_count": 20
        },
        {
          "output_type": "execute_result",
          "data": {
            "text/plain": [
              "[<matplotlib.lines.Line2D at 0x7db962712b30>]"
            ]
          },
          "metadata": {},
          "execution_count": 20
        },
        {
          "output_type": "execute_result",
          "data": {
            "text/plain": [
              "<matplotlib.legend.Legend at 0x7db9759d3d30>"
            ]
          },
          "metadata": {},
          "execution_count": 20
        },
        {
          "output_type": "display_data",
          "data": {
            "text/plain": [
              "<Figure size 640x480 with 1 Axes>"
            ],
            "image/png": "[encoded data removed]"
          },
          "metadata": {}
        }
      ]
    },
    {
      "cell_type": "code",
      "source": [
        "news = ['கால் மரத்து போகுது’ - நீதிபதியிடம் சொன்ன அமைச்சர் செந்தில் பாலாஜி.. செப் 15 வரை நீதிமன்ற காவல்.']\n",
        "seq = tokenizer.texts_to_sequences(news)\n",
        "padded = pad_sequences(seq, maxlen=MAX_SEQUENCE_LENGTH)\n",
        "pred = model.predict(padded)\n",
        "labels = ['world', 'cinema', 'tamilnadu', 'india', 'politics', 'sports']\n",
        "label = pred, labels[np.argmax(pred)]\n",
        "print(\"News Category is: \")\n",
        "print(label[1])"
      ],
      "metadata": {
        "colab": {
          "base_uri": "https://localhost:8080/"
        },
        "id": "cg3Zvln-D0oQ",
        "outputId": "0116f200-bc02-46e6-c439-df466894fbc6"
      },
      "execution_count": 23,
      "outputs": [
        {
          "output_type": "stream",
          "name": "stdout",
          "text": [
            "1/1 [==============================] - 0s 41ms/step\n",
            "News Category is: \n",
            "politics\n"
          ]
        }
      ]
    }
  ]
}