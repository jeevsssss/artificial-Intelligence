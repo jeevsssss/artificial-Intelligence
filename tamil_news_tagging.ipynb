{
  "nbformat": 4,
  "nbformat_minor": 0,
  "metadata": {
    "colab": {
      "provenance": [],
      "authorship_tag": "ABX9TyOJrgEIKIkU2kT1/A3w/OHq",
      "include_colab_link": true
    },
    "kernelspec": {
      "name": "python3",
      "display_name": "Python 3"
    },
    "language_info": {
      "name": "python"
    }
  },
  "cells": [
    {
      "cell_type": "markdown",
      "metadata": {
        "id": "view-in-github",
        "colab_type": "text"
      },
      "source": [
        "<a href=\"https://colab.research.google.com/github/jeevsssss/artificial-Intelligence/blob/main/tamil_news_tagging.ipynb\" target=\"_parent\"><img src=\"https://colab.research.google.com/assets/colab-badge.svg\" alt=\"Open In Colab\"/></a>"
      ]
    },
    {
      "cell_type": "code",
      "execution_count": 1,
      "metadata": {
        "id": "SFex0uBd9fM7",
        "colab": {
          "base_uri": "https://localhost:8080/"
        },
        "outputId": "15a9ebc2-9ffb-4e30-ad17-ae59f146aed7"
      },
      "outputs": [
        {
          "output_type": "stream",
          "name": "stdout",
          "text": [
            "Drive already mounted at /content/drive; to attempt to forcibly remount, call drive.mount(\"/content/drive\", force_remount=True).\n"
          ]
        }
      ],
      "source": [
        "from google.colab import drive\n",
        "drive.mount('/content/drive')"
      ]
    },
    {
      "cell_type": "code",
      "source": [
        "import numpy as np\n",
        "import pandas as pd\n",
        "import matplotlib.pyplot as plt\n",
        "import nltk\n",
        "import seaborn as sns\n",
        "from nltk.corpus import stopwords\n",
        "from nltk.tokenize import word_tokenize\n",
        "from sklearn.model_selection import train_test_split\n",
        "from sklearn.preprocessing import LabelBinarizer\n",
        "from keras.preprocessing.text import Tokenizer\n",
        "from tensorflow.keras.preprocessing.sequence import pad_sequences\n",
        "from sklearn.feature_extraction.text import TfidfVectorizer\n",
        "from keras.layers import SpatialDropout1D\n",
        "from keras.utils import to_categorical\n",
        "from sklearn.metrics import classification_report\n",
        "from sklearn.metrics import roc_auc_score\n",
        "from sklearn.metrics import roc_curve\n",
        "from sklearn.metrics import precision_recall_curve\n",
        "from sklearn.model_selection import GridSearchCV\n",
        "from keras.models import Sequential\n",
        "from keras.layers import Dense\n",
        "from keras.layers import LSTM\n",
        "from tensorflow.keras.layers import Embedding\n",
        "from keras.preprocessing import sequence\n",
        "from sklearn.feature_selection import RFE\n",
        "import re\n",
        "from IPython.core.interactiveshell import InteractiveShell\n",
        "InteractiveShell.ast_node_interactivity = \"all\""
      ],
      "metadata": {
        "id": "AHBsS1qhvFTy"
      },
      "execution_count": 2,
      "outputs": []
    },
    {
      "cell_type": "code",
      "source": [
        "train = pd.read_csv('/content/drive/My Drive/tamil_news_train.csv')\n",
        "test = pd.read_csv('/content/drive/My Drive/tamil_news_test.csv')\n",
        "train.head(10)\n",
        "test.head(10)"
      ],
      "metadata": {
        "id": "tATcQqYU-1YE",
        "colab": {
          "base_uri": "https://localhost:8080/",
          "height": 708
        },
        "outputId": "c3ce4ab2-67bf-48bd-a422-439f6d0cf386"
      },
      "execution_count": 3,
      "outputs": [
        {
          "output_type": "execute_result",
          "data": {
            "text/plain": [
              "                                       NewsInEnglish  \\\n",
              "0  2017/May/19941-miss-iraq-competition-after-43-...   \n",
              "1  2018/Dec/55921-viswasam-s-rustic-folk-song-has...   \n",
              "2  2018/Dec/55929-inspector-who-bought-insurance-...   \n",
              "3            2017/Jan/16161-morarji-desai-budget.txt   \n",
              "4  2018/Jun/46476-i-have-not-joined-bjp-or-anyoth...   \n",
              "5  2017/Oct/33330-nia-files-charge-sheet-against-...   \n",
              "6  2017/Oct/32870-dhanush-wishes-to-meyatha-maan.txt   \n",
              "7  2018/Sep/51133-amit-shah-s-said-bjo-rule-next-...   \n",
              "8  2018/Feb/40233-chennai-corporation-bus-passes-...   \n",
              "9  2018/Apr/44451-20-tamilians-arrested-in-tirupa...   \n",
              "\n",
              "                                         NewsInTamil   Category  \\\n",
              "0         ஈராக்கில் 43 ஆண்டுகள் கழித்து அழகிப்போட்டி      world   \n",
              "1  இந்திய அளவில் ட்ரெண்ட் ஆன அஜித்தின் ‘தள்லே தில...     cinema   \n",
              "2  சொந்த செலவில் வாகன காப்பீடு எடுத்து கொடுத்த கா...  tamilnadu   \n",
              "3              பிறந்தநாளில் பட்ஜெட் தாக்கல் செய்தவர்      india   \n",
              "4  “நானா? பாஜகவில் இணைந்துவிட்டேனா” - வரலட்சுமி வ...     cinema   \n",
              "5  இஸ்லாமிய மதபோதகர் ஜாகிர் நாயக் மீது 58 பக்க கு...      india   \n",
              "6  மேயாதமான் இசையமைப்பாளர்களுக்கு மிகப்பெரிய வாழ்...     cinema   \n",
              "7          அடுத்த 50 ஆண்டுக்கு பாஜக ஆட்சி - அமித் ஷா      india   \n",
              "8  தொடரும் பஸ் கட்டண உயர்வு: தினசரி, மாதாந்திர பா...  tamilnadu   \n",
              "9  செம்மரம் வெட்டச் சென்றதாக திருப்பதியில் தமிழர்...  tamilnadu   \n",
              "\n",
              "  CategoryInTamil  \n",
              "0           உலகம்  \n",
              "1          சினிமா  \n",
              "2       தமிழ்நாடு  \n",
              "3         இந்தியா  \n",
              "4          சினிமா  \n",
              "5         இந்தியா  \n",
              "6          சினிமா  \n",
              "7         இந்தியா  \n",
              "8       தமிழ்நாடு  \n",
              "9       தமிழ்நாடு  "
            ],
            "text/html": [
              "\n",
              "  <div id=\"df-098c6332-73db-40d1-8bfd-a3415e46691c\" class=\"colab-df-container\">\n",
              "    <div>\n",
              "<style scoped>\n",
              "    .dataframe tbody tr th:only-of-type {\n",
              "        vertical-align: middle;\n",
              "    }\n",
              "\n",
              "    .dataframe tbody tr th {\n",
              "        vertical-align: top;\n",
              "    }\n",
              "\n",
              "    .dataframe thead th {\n",
              "        text-align: right;\n",
              "    }\n",
              "</style>\n",
              "<table border=\"1\" class=\"dataframe\">\n",
              "  <thead>\n",
              "    <tr style=\"text-align: right;\">\n",
              "      <th></th>\n",
              "      <th>NewsInEnglish</th>\n",
              "      <th>NewsInTamil</th>\n",
              "      <th>Category</th>\n",
              "      <th>CategoryInTamil</th>\n",
              "    </tr>\n",
              "  </thead>\n",
              "  <tbody>\n",
              "    <tr>\n",
              "      <th>0</th>\n",
              "      <td>2017/May/19941-miss-iraq-competition-after-43-...</td>\n",
              "      <td>ஈராக்கில் 43 ஆண்டுகள் கழித்து அழகிப்போட்டி</td>\n",
              "      <td>world</td>\n",
              "      <td>உலகம்</td>\n",
              "    </tr>\n",
              "    <tr>\n",
              "      <th>1</th>\n",
              "      <td>2018/Dec/55921-viswasam-s-rustic-folk-song-has...</td>\n",
              "      <td>இந்திய அளவில் ட்ரெண்ட் ஆன அஜித்தின் ‘தள்லே தில...</td>\n",
              "      <td>cinema</td>\n",
              "      <td>சினிமா</td>\n",
              "    </tr>\n",
              "    <tr>\n",
              "      <th>2</th>\n",
              "      <td>2018/Dec/55929-inspector-who-bought-insurance-...</td>\n",
              "      <td>சொந்த செலவில் வாகன காப்பீடு எடுத்து கொடுத்த கா...</td>\n",
              "      <td>tamilnadu</td>\n",
              "      <td>தமிழ்நாடு</td>\n",
              "    </tr>\n",
              "    <tr>\n",
              "      <th>3</th>\n",
              "      <td>2017/Jan/16161-morarji-desai-budget.txt</td>\n",
              "      <td>பிறந்தநாளில் பட்ஜெட் தாக்கல் செய்தவர்</td>\n",
              "      <td>india</td>\n",
              "      <td>இந்தியா</td>\n",
              "    </tr>\n",
              "    <tr>\n",
              "      <th>4</th>\n",
              "      <td>2018/Jun/46476-i-have-not-joined-bjp-or-anyoth...</td>\n",
              "      <td>“நானா? பாஜகவில் இணைந்துவிட்டேனா” - வரலட்சுமி வ...</td>\n",
              "      <td>cinema</td>\n",
              "      <td>சினிமா</td>\n",
              "    </tr>\n",
              "    <tr>\n",
              "      <th>5</th>\n",
              "      <td>2017/Oct/33330-nia-files-charge-sheet-against-...</td>\n",
              "      <td>இஸ்லாமிய மதபோதகர் ஜாகிர் நாயக் மீது 58 பக்க கு...</td>\n",
              "      <td>india</td>\n",
              "      <td>இந்தியா</td>\n",
              "    </tr>\n",
              "    <tr>\n",
              "      <th>6</th>\n",
              "      <td>2017/Oct/32870-dhanush-wishes-to-meyatha-maan.txt</td>\n",
              "      <td>மேயாதமான் இசையமைப்பாளர்களுக்கு மிகப்பெரிய வாழ்...</td>\n",
              "      <td>cinema</td>\n",
              "      <td>சினிமா</td>\n",
              "    </tr>\n",
              "    <tr>\n",
              "      <th>7</th>\n",
              "      <td>2018/Sep/51133-amit-shah-s-said-bjo-rule-next-...</td>\n",
              "      <td>அடுத்த 50 ஆண்டுக்கு பாஜக ஆட்சி - அமித் ஷா</td>\n",
              "      <td>india</td>\n",
              "      <td>இந்தியா</td>\n",
              "    </tr>\n",
              "    <tr>\n",
              "      <th>8</th>\n",
              "      <td>2018/Feb/40233-chennai-corporation-bus-passes-...</td>\n",
              "      <td>தொடரும் பஸ் கட்டண உயர்வு: தினசரி, மாதாந்திர பா...</td>\n",
              "      <td>tamilnadu</td>\n",
              "      <td>தமிழ்நாடு</td>\n",
              "    </tr>\n",
              "    <tr>\n",
              "      <th>9</th>\n",
              "      <td>2018/Apr/44451-20-tamilians-arrested-in-tirupa...</td>\n",
              "      <td>செம்மரம் வெட்டச் சென்றதாக திருப்பதியில் தமிழர்...</td>\n",
              "      <td>tamilnadu</td>\n",
              "      <td>தமிழ்நாடு</td>\n",
              "    </tr>\n",
              "  </tbody>\n",
              "</table>\n",
              "</div>\n",
              "    <div class=\"colab-df-buttons\">\n",
              "\n",
              "  <div class=\"colab-df-container\">\n",
              "    <button class=\"colab-df-convert\" onclick=\"convertToInteractive('df-098c6332-73db-40d1-8bfd-a3415e46691c')\"\n",
              "            title=\"Convert this dataframe to an interactive table.\"\n",
              "            style=\"display:none;\">\n",
              "\n",
              "  <svg xmlns=\"http://www.w3.org/2000/svg\" height=\"24px\" viewBox=\"0 -960 960 960\">\n",
              "    <path d=\"M120-120v-720h720v720H120Zm60-500h600v-160H180v160Zm220 220h160v-160H400v160Zm0 220h160v-160H400v160ZM180-400h160v-160H180v160Zm440 0h160v-160H620v160ZM180-180h160v-160H180v160Zm440 0h160v-160H620v160Z\"/>\n",
              "  </svg>\n",
              "    </button>\n",
              "\n",
              "  <style>\n",
              "    .colab-df-container {\n",
              "      display:flex;\n",
              "      gap: 12px;\n",
              "    }\n",
              "\n",
              "    .colab-df-convert {\n",
              "      background-color: #E8F0FE;\n",
              "      border: none;\n",
              "      border-radius: 50%;\n",
              "      cursor: pointer;\n",
              "      display: none;\n",
              "      fill: #1967D2;\n",
              "      height: 32px;\n",
              "      padding: 0 0 0 0;\n",
              "      width: 32px;\n",
              "    }\n",
              "\n",
              "    .colab-df-convert:hover {\n",
              "      background-color: #E2EBFA;\n",
              "      box-shadow: 0px 1px 2px rgba(60, 64, 67, 0.3), 0px 1px 3px 1px rgba(60, 64, 67, 0.15);\n",
              "      fill: #174EA6;\n",
              "    }\n",
              "\n",
              "    .colab-df-buttons div {\n",
              "      margin-bottom: 4px;\n",
              "    }\n",
              "\n",
              "    [theme=dark] .colab-df-convert {\n",
              "      background-color: #3B4455;\n",
              "      fill: #D2E3FC;\n",
              "    }\n",
              "\n",
              "    [theme=dark] .colab-df-convert:hover {\n",
              "      background-color: #434B5C;\n",
              "      box-shadow: 0px 1px 3px 1px rgba(0, 0, 0, 0.15);\n",
              "      filter: drop-shadow(0px 1px 2px rgba(0, 0, 0, 0.3));\n",
              "      fill: #FFFFFF;\n",
              "    }\n",
              "  </style>\n",
              "\n",
              "    <script>\n",
              "      const buttonEl =\n",
              "        document.querySelector('#df-098c6332-73db-40d1-8bfd-a3415e46691c button.colab-df-convert');\n",
              "      buttonEl.style.display =\n",
              "        google.colab.kernel.accessAllowed ? 'block' : 'none';\n",
              "\n",
              "      async function convertToInteractive(key) {\n",
              "        const element = document.querySelector('#df-098c6332-73db-40d1-8bfd-a3415e46691c');\n",
              "        const dataTable =\n",
              "          await google.colab.kernel.invokeFunction('convertToInteractive',\n",
              "                                                    [key], {});\n",
              "        if (!dataTable) return;\n",
              "\n",
              "        const docLinkHtml = 'Like what you see? Visit the ' +\n",
              "          '<a target=\"_blank\" href=https://colab.research.google.com/notebooks/data_table.ipynb>data table notebook</a>'\n",
              "          + ' to learn more about interactive tables.';\n",
              "        element.innerHTML = '';\n",
              "        dataTable['output_type'] = 'display_data';\n",
              "        await google.colab.output.renderOutput(dataTable, element);\n",
              "        const docLink = document.createElement('div');\n",
              "        docLink.innerHTML = docLinkHtml;\n",
              "        element.appendChild(docLink);\n",
              "      }\n",
              "    </script>\n",
              "  </div>\n",
              "\n",
              "\n",
              "<div id=\"df-c27eb390-befb-4004-afc5-987019118999\">\n",
              "  <button class=\"colab-df-quickchart\" onclick=\"quickchart('df-c27eb390-befb-4004-afc5-987019118999')\"\n",
              "            title=\"Suggest charts.\"\n",
              "            style=\"display:none;\">\n",
              "\n",
              "<svg xmlns=\"http://www.w3.org/2000/svg\" height=\"24px\"viewBox=\"0 0 24 24\"\n",
              "     width=\"24px\">\n",
              "    <g>\n",
              "        <path d=\"M19 3H5c-1.1 0-2 .9-2 2v14c0 1.1.9 2 2 2h14c1.1 0 2-.9 2-2V5c0-1.1-.9-2-2-2zM9 17H7v-7h2v7zm4 0h-2V7h2v10zm4 0h-2v-4h2v4z\"/>\n",
              "    </g>\n",
              "</svg>\n",
              "  </button>\n",
              "\n",
              "<style>\n",
              "  .colab-df-quickchart {\n",
              "    background-color: #E8F0FE;\n",
              "    border: none;\n",
              "    border-radius: 50%;\n",
              "    cursor: pointer;\n",
              "    display: none;\n",
              "    fill: #1967D2;\n",
              "    height: 32px;\n",
              "    padding: 0 0 0 0;\n",
              "    width: 32px;\n",
              "  }\n",
              "\n",
              "  .colab-df-quickchart:hover {\n",
              "    background-color: #E2EBFA;\n",
              "    box-shadow: 0px 1px 2px rgba(60, 64, 67, 0.3), 0px 1px 3px 1px rgba(60, 64, 67, 0.15);\n",
              "    fill: #174EA6;\n",
              "  }\n",
              "\n",
              "  [theme=dark] .colab-df-quickchart {\n",
              "    background-color: #3B4455;\n",
              "    fill: #D2E3FC;\n",
              "  }\n",
              "\n",
              "  [theme=dark] .colab-df-quickchart:hover {\n",
              "    background-color: #434B5C;\n",
              "    box-shadow: 0px 1px 3px 1px rgba(0, 0, 0, 0.15);\n",
              "    filter: drop-shadow(0px 1px 2px rgba(0, 0, 0, 0.3));\n",
              "    fill: #FFFFFF;\n",
              "  }\n",
              "</style>\n",
              "\n",
              "  <script>\n",
              "    async function quickchart(key) {\n",
              "      const charts = await google.colab.kernel.invokeFunction(\n",
              "          'suggestCharts', [key], {});\n",
              "    }\n",
              "    (() => {\n",
              "      let quickchartButtonEl =\n",
              "        document.querySelector('#df-c27eb390-befb-4004-afc5-987019118999 button');\n",
              "      quickchartButtonEl.style.display =\n",
              "        google.colab.kernel.accessAllowed ? 'block' : 'none';\n",
              "    })();\n",
              "  </script>\n",
              "</div>\n",
              "    </div>\n",
              "  </div>\n"
            ]
          },
          "metadata": {},
          "execution_count": 3
        },
        {
          "output_type": "execute_result",
          "data": {
            "text/plain": [
              "                                       NewsInEnglish  \\\n",
              "0  2017/Jun/21972-groom-chewing-gutka-during-wedd...   \n",
              "1  2018/Nov/54005-indvswi-3rd-t20-west-indies-won...   \n",
              "2  2018/Dec/55960-lkg-ukg-classes-will-be-started...   \n",
              "3  2018/Mar/41755-college-student-murder-in-chenn...   \n",
              "4  2018/Sep/51691-fever-in-uttar-pradesh-71-child...   \n",
              "5  2017/Feb/16296-dindugul-jallikattu-conduct-aft...   \n",
              "6  2018/Sep/50883-director-shankar-is-fined-rs-10...   \n",
              "7  2018/Sep/51242-india-a-square-series-with-thri...   \n",
              "8  2018/Jan/38914-mlas-disqualification-case-cm-p...   \n",
              "9          2017/Jul/23308-gst-records-in-twitter.txt   \n",
              "\n",
              "                                         NewsInTamil   Category  \\\n",
              "0  தாலி கட்ற நேரத்துலயும் குட்காவா? மணமகனை உதறினா...      india   \n",
              "1  3வது டி20 : வெஸ்ட் இண்டீஸ் முதல் பேட்டிங் - வா...     sports   \n",
              "2  பெற்றோர்கள் விருப்பத்திற்கு ஏற்ப எல்.கே.ஜி., ய...  tamilnadu   \n",
              "3      சென்னையில் கல்லூரி வாசலில் மாணவி குத்திக்கொலை  tamilnadu   \n",
              "4  உ.பி.யில் காய்ச்சலால் 45 நாட்களில் 71 குழந்தைக...      india   \n",
              "5  திண்டுக்கல்லில் 8 ஆண்டுக்கு பிறகு நாளை ஜல்லிக்...  tamilnadu   \n",
              "6             இயக்குநர் ஷங்கருக்கு ரூ.10,000 அபராதம்     cinema   \n",
              "7  குல்தீப் சுழலில் சுருண்டது ஆஸ்திரேலியா ஏ - இந்...     sports   \n",
              "8  ஓபிஎஸ் முடிவே எங்களது முடிவு: நீதிமன்றத்தில் ம...  tamilnadu   \n",
              "9             ட்விட்டரில் புதிய சாதனை படைத்த ஜிஎஸ்டி      india   \n",
              "\n",
              "  CategoryInTamil  \n",
              "0         இந்தியா  \n",
              "1      விளையாட்டு  \n",
              "2       தமிழ்நாடு  \n",
              "3       தமிழ்நாடு  \n",
              "4         இந்தியா  \n",
              "5       தமிழ்நாடு  \n",
              "6          சினிமா  \n",
              "7      விளையாட்டு  \n",
              "8       தமிழ்நாடு  \n",
              "9         இந்தியா  "
            ],
            "text/html": [
              "\n",
              "  <div id=\"df-cce9d9d0-555b-4c54-8a67-ed792ceef58f\" class=\"colab-df-container\">\n",
              "    <div>\n",
              "<style scoped>\n",
              "    .dataframe tbody tr th:only-of-type {\n",
              "        vertical-align: middle;\n",
              "    }\n",
              "\n",
              "    .dataframe tbody tr th {\n",
              "        vertical-align: top;\n",
              "    }\n",
              "\n",
              "    .dataframe thead th {\n",
              "        text-align: right;\n",
              "    }\n",
              "</style>\n",
              "<table border=\"1\" class=\"dataframe\">\n",
              "  <thead>\n",
              "    <tr style=\"text-align: right;\">\n",
              "      <th></th>\n",
              "      <th>NewsInEnglish</th>\n",
              "      <th>NewsInTamil</th>\n",
              "      <th>Category</th>\n",
              "      <th>CategoryInTamil</th>\n",
              "    </tr>\n",
              "  </thead>\n",
              "  <tbody>\n",
              "    <tr>\n",
              "      <th>0</th>\n",
              "      <td>2017/Jun/21972-groom-chewing-gutka-during-wedd...</td>\n",
              "      <td>தாலி கட்ற நேரத்துலயும் குட்காவா? மணமகனை உதறினா...</td>\n",
              "      <td>india</td>\n",
              "      <td>இந்தியா</td>\n",
              "    </tr>\n",
              "    <tr>\n",
              "      <th>1</th>\n",
              "      <td>2018/Nov/54005-indvswi-3rd-t20-west-indies-won...</td>\n",
              "      <td>3வது டி20 : வெஸ்ட் இண்டீஸ் முதல் பேட்டிங் - வா...</td>\n",
              "      <td>sports</td>\n",
              "      <td>விளையாட்டு</td>\n",
              "    </tr>\n",
              "    <tr>\n",
              "      <th>2</th>\n",
              "      <td>2018/Dec/55960-lkg-ukg-classes-will-be-started...</td>\n",
              "      <td>பெற்றோர்கள் விருப்பத்திற்கு ஏற்ப எல்.கே.ஜி., ய...</td>\n",
              "      <td>tamilnadu</td>\n",
              "      <td>தமிழ்நாடு</td>\n",
              "    </tr>\n",
              "    <tr>\n",
              "      <th>3</th>\n",
              "      <td>2018/Mar/41755-college-student-murder-in-chenn...</td>\n",
              "      <td>சென்னையில் கல்லூரி வாசலில் மாணவி குத்திக்கொலை</td>\n",
              "      <td>tamilnadu</td>\n",
              "      <td>தமிழ்நாடு</td>\n",
              "    </tr>\n",
              "    <tr>\n",
              "      <th>4</th>\n",
              "      <td>2018/Sep/51691-fever-in-uttar-pradesh-71-child...</td>\n",
              "      <td>உ.பி.யில் காய்ச்சலால் 45 நாட்களில் 71 குழந்தைக...</td>\n",
              "      <td>india</td>\n",
              "      <td>இந்தியா</td>\n",
              "    </tr>\n",
              "    <tr>\n",
              "      <th>5</th>\n",
              "      <td>2017/Feb/16296-dindugul-jallikattu-conduct-aft...</td>\n",
              "      <td>திண்டுக்கல்லில் 8 ஆண்டுக்கு பிறகு நாளை ஜல்லிக்...</td>\n",
              "      <td>tamilnadu</td>\n",
              "      <td>தமிழ்நாடு</td>\n",
              "    </tr>\n",
              "    <tr>\n",
              "      <th>6</th>\n",
              "      <td>2018/Sep/50883-director-shankar-is-fined-rs-10...</td>\n",
              "      <td>இயக்குநர் ஷங்கருக்கு ரூ.10,000 அபராதம்</td>\n",
              "      <td>cinema</td>\n",
              "      <td>சினிமா</td>\n",
              "    </tr>\n",
              "    <tr>\n",
              "      <th>7</th>\n",
              "      <td>2018/Sep/51242-india-a-square-series-with-thri...</td>\n",
              "      <td>குல்தீப் சுழலில் சுருண்டது ஆஸ்திரேலியா ஏ - இந்...</td>\n",
              "      <td>sports</td>\n",
              "      <td>விளையாட்டு</td>\n",
              "    </tr>\n",
              "    <tr>\n",
              "      <th>8</th>\n",
              "      <td>2018/Jan/38914-mlas-disqualification-case-cm-p...</td>\n",
              "      <td>ஓபிஎஸ் முடிவே எங்களது முடிவு: நீதிமன்றத்தில் ம...</td>\n",
              "      <td>tamilnadu</td>\n",
              "      <td>தமிழ்நாடு</td>\n",
              "    </tr>\n",
              "    <tr>\n",
              "      <th>9</th>\n",
              "      <td>2017/Jul/23308-gst-records-in-twitter.txt</td>\n",
              "      <td>ட்விட்டரில் புதிய சாதனை படைத்த ஜிஎஸ்டி</td>\n",
              "      <td>india</td>\n",
              "      <td>இந்தியா</td>\n",
              "    </tr>\n",
              "  </tbody>\n",
              "</table>\n",
              "</div>\n",
              "    <div class=\"colab-df-buttons\">\n",
              "\n",
              "  <div class=\"colab-df-container\">\n",
              "    <button class=\"colab-df-convert\" onclick=\"convertToInteractive('df-cce9d9d0-555b-4c54-8a67-ed792ceef58f')\"\n",
              "            title=\"Convert this dataframe to an interactive table.\"\n",
              "            style=\"display:none;\">\n",
              "\n",
              "  <svg xmlns=\"http://www.w3.org/2000/svg\" height=\"24px\" viewBox=\"0 -960 960 960\">\n",
              "    <path d=\"M120-120v-720h720v720H120Zm60-500h600v-160H180v160Zm220 220h160v-160H400v160Zm0 220h160v-160H400v160ZM180-400h160v-160H180v160Zm440 0h160v-160H620v160ZM180-180h160v-160H180v160Zm440 0h160v-160H620v160Z\"/>\n",
              "  </svg>\n",
              "    </button>\n",
              "\n",
              "  <style>\n",
              "    .colab-df-container {\n",
              "      display:flex;\n",
              "      gap: 12px;\n",
              "    }\n",
              "\n",
              "    .colab-df-convert {\n",
              "      background-color: #E8F0FE;\n",
              "      border: none;\n",
              "      border-radius: 50%;\n",
              "      cursor: pointer;\n",
              "      display: none;\n",
              "      fill: #1967D2;\n",
              "      height: 32px;\n",
              "      padding: 0 0 0 0;\n",
              "      width: 32px;\n",
              "    }\n",
              "\n",
              "    .colab-df-convert:hover {\n",
              "      background-color: #E2EBFA;\n",
              "      box-shadow: 0px 1px 2px rgba(60, 64, 67, 0.3), 0px 1px 3px 1px rgba(60, 64, 67, 0.15);\n",
              "      fill: #174EA6;\n",
              "    }\n",
              "\n",
              "    .colab-df-buttons div {\n",
              "      margin-bottom: 4px;\n",
              "    }\n",
              "\n",
              "    [theme=dark] .colab-df-convert {\n",
              "      background-color: #3B4455;\n",
              "      fill: #D2E3FC;\n",
              "    }\n",
              "\n",
              "    [theme=dark] .colab-df-convert:hover {\n",
              "      background-color: #434B5C;\n",
              "      box-shadow: 0px 1px 3px 1px rgba(0, 0, 0, 0.15);\n",
              "      filter: drop-shadow(0px 1px 2px rgba(0, 0, 0, 0.3));\n",
              "      fill: #FFFFFF;\n",
              "    }\n",
              "  </style>\n",
              "\n",
              "    <script>\n",
              "      const buttonEl =\n",
              "        document.querySelector('#df-cce9d9d0-555b-4c54-8a67-ed792ceef58f button.colab-df-convert');\n",
              "      buttonEl.style.display =\n",
              "        google.colab.kernel.accessAllowed ? 'block' : 'none';\n",
              "\n",
              "      async function convertToInteractive(key) {\n",
              "        const element = document.querySelector('#df-cce9d9d0-555b-4c54-8a67-ed792ceef58f');\n",
              "        const dataTable =\n",
              "          await google.colab.kernel.invokeFunction('convertToInteractive',\n",
              "                                                    [key], {});\n",
              "        if (!dataTable) return;\n",
              "\n",
              "        const docLinkHtml = 'Like what you see? Visit the ' +\n",
              "          '<a target=\"_blank\" href=https://colab.research.google.com/notebooks/data_table.ipynb>data table notebook</a>'\n",
              "          + ' to learn more about interactive tables.';\n",
              "        element.innerHTML = '';\n",
              "        dataTable['output_type'] = 'display_data';\n",
              "        await google.colab.output.renderOutput(dataTable, element);\n",
              "        const docLink = document.createElement('div');\n",
              "        docLink.innerHTML = docLinkHtml;\n",
              "        element.appendChild(docLink);\n",
              "      }\n",
              "    </script>\n",
              "  </div>\n",
              "\n",
              "\n",
              "<div id=\"df-cb76057a-80ec-4bbd-8501-bbf2c6896495\">\n",
              "  <button class=\"colab-df-quickchart\" onclick=\"quickchart('df-cb76057a-80ec-4bbd-8501-bbf2c6896495')\"\n",
              "            title=\"Suggest charts.\"\n",
              "            style=\"display:none;\">\n",
              "\n",
              "<svg xmlns=\"http://www.w3.org/2000/svg\" height=\"24px\"viewBox=\"0 0 24 24\"\n",
              "     width=\"24px\">\n",
              "    <g>\n",
              "        <path d=\"M19 3H5c-1.1 0-2 .9-2 2v14c0 1.1.9 2 2 2h14c1.1 0 2-.9 2-2V5c0-1.1-.9-2-2-2zM9 17H7v-7h2v7zm4 0h-2V7h2v10zm4 0h-2v-4h2v4z\"/>\n",
              "    </g>\n",
              "</svg>\n",
              "  </button>\n",
              "\n",
              "<style>\n",
              "  .colab-df-quickchart {\n",
              "    background-color: #E8F0FE;\n",
              "    border: none;\n",
              "    border-radius: 50%;\n",
              "    cursor: pointer;\n",
              "    display: none;\n",
              "    fill: #1967D2;\n",
              "    height: 32px;\n",
              "    padding: 0 0 0 0;\n",
              "    width: 32px;\n",
              "  }\n",
              "\n",
              "  .colab-df-quickchart:hover {\n",
              "    background-color: #E2EBFA;\n",
              "    box-shadow: 0px 1px 2px rgba(60, 64, 67, 0.3), 0px 1px 3px 1px rgba(60, 64, 67, 0.15);\n",
              "    fill: #174EA6;\n",
              "  }\n",
              "\n",
              "  [theme=dark] .colab-df-quickchart {\n",
              "    background-color: #3B4455;\n",
              "    fill: #D2E3FC;\n",
              "  }\n",
              "\n",
              "  [theme=dark] .colab-df-quickchart:hover {\n",
              "    background-color: #434B5C;\n",
              "    box-shadow: 0px 1px 3px 1px rgba(0, 0, 0, 0.15);\n",
              "    filter: drop-shadow(0px 1px 2px rgba(0, 0, 0, 0.3));\n",
              "    fill: #FFFFFF;\n",
              "  }\n",
              "</style>\n",
              "\n",
              "  <script>\n",
              "    async function quickchart(key) {\n",
              "      const charts = await google.colab.kernel.invokeFunction(\n",
              "          'suggestCharts', [key], {});\n",
              "    }\n",
              "    (() => {\n",
              "      let quickchartButtonEl =\n",
              "        document.querySelector('#df-cb76057a-80ec-4bbd-8501-bbf2c6896495 button');\n",
              "      quickchartButtonEl.style.display =\n",
              "        google.colab.kernel.accessAllowed ? 'block' : 'none';\n",
              "    })();\n",
              "  </script>\n",
              "</div>\n",
              "    </div>\n",
              "  </div>\n"
            ]
          },
          "metadata": {},
          "execution_count": 3
        }
      ]
    },
    {
      "cell_type": "code",
      "source": [
        "np.random.seed(7)\n",
        "train = train.drop_duplicates().reset_index(drop=True)\n",
        "test = test.drop_duplicates().reset_index(drop=True)"
      ],
      "metadata": {
        "id": "IAF1Bv3R_0W0"
      },
      "execution_count": 4,
      "outputs": []
    },
    {
      "cell_type": "code",
      "source": [
        "train.NewsInTamil = train.NewsInTamil.str.replace('\\d+', ' ')\n",
        "\n",
        "test.NewsInTamil = test.NewsInTamil.str.replace('\\d+', ' ')\n",
        "train = train.append(test)\n",
        "df = train\n",
        "df.head()\n",
        "df.shape"
      ],
      "metadata": {
        "colab": {
          "base_uri": "https://localhost:8080/",
          "height": 347
        },
        "id": "g0KSm4HYAHr3",
        "outputId": "0ecce1b0-baff-4d1f-c900-02e9ba8c40cb"
      },
      "execution_count": 5,
      "outputs": [
        {
          "output_type": "stream",
          "name": "stderr",
          "text": [
            "<ipython-input-5-085ce7ca07f1>:1: FutureWarning: The default value of regex will change from True to False in a future version.\n",
            "  train.NewsInTamil = train.NewsInTamil.str.replace('\\d+', ' ')\n",
            "<ipython-input-5-085ce7ca07f1>:3: FutureWarning: The default value of regex will change from True to False in a future version.\n",
            "  test.NewsInTamil = test.NewsInTamil.str.replace('\\d+', ' ')\n",
            "<ipython-input-5-085ce7ca07f1>:4: FutureWarning: The frame.append method is deprecated and will be removed from pandas in a future version. Use pandas.concat instead.\n",
            "  train = train.append(test)\n"
          ]
        },
        {
          "output_type": "execute_result",
          "data": {
            "text/plain": [
              "                                       NewsInEnglish  \\\n",
              "0  2017/May/19941-miss-iraq-competition-after-43-...   \n",
              "1  2018/Dec/55921-viswasam-s-rustic-folk-song-has...   \n",
              "2  2018/Dec/55929-inspector-who-bought-insurance-...   \n",
              "3            2017/Jan/16161-morarji-desai-budget.txt   \n",
              "4  2018/Jun/46476-i-have-not-joined-bjp-or-anyoth...   \n",
              "\n",
              "                                         NewsInTamil   Category  \\\n",
              "0          ஈராக்கில்   ஆண்டுகள் கழித்து அழகிப்போட்டி      world   \n",
              "1  இந்திய அளவில் ட்ரெண்ட் ஆன அஜித்தின் ‘தள்லே தில...     cinema   \n",
              "2  சொந்த செலவில் வாகன காப்பீடு எடுத்து கொடுத்த கா...  tamilnadu   \n",
              "3              பிறந்தநாளில் பட்ஜெட் தாக்கல் செய்தவர்      india   \n",
              "4  “நானா? பாஜகவில் இணைந்துவிட்டேனா” - வரலட்சுமி வ...     cinema   \n",
              "\n",
              "  CategoryInTamil  \n",
              "0           உலகம்  \n",
              "1          சினிமா  \n",
              "2       தமிழ்நாடு  \n",
              "3         இந்தியா  \n",
              "4          சினிமா  "
            ],
            "text/html": [
              "\n",
              "  <div id=\"df-56094b65-a435-4058-995b-fe81f04c176c\" class=\"colab-df-container\">\n",
              "    <div>\n",
              "<style scoped>\n",
              "    .dataframe tbody tr th:only-of-type {\n",
              "        vertical-align: middle;\n",
              "    }\n",
              "\n",
              "    .dataframe tbody tr th {\n",
              "        vertical-align: top;\n",
              "    }\n",
              "\n",
              "    .dataframe thead th {\n",
              "        text-align: right;\n",
              "    }\n",
              "</style>\n",
              "<table border=\"1\" class=\"dataframe\">\n",
              "  <thead>\n",
              "    <tr style=\"text-align: right;\">\n",
              "      <th></th>\n",
              "      <th>NewsInEnglish</th>\n",
              "      <th>NewsInTamil</th>\n",
              "      <th>Category</th>\n",
              "      <th>CategoryInTamil</th>\n",
              "    </tr>\n",
              "  </thead>\n",
              "  <tbody>\n",
              "    <tr>\n",
              "      <th>0</th>\n",
              "      <td>2017/May/19941-miss-iraq-competition-after-43-...</td>\n",
              "      <td>ஈராக்கில்   ஆண்டுகள் கழித்து அழகிப்போட்டி</td>\n",
              "      <td>world</td>\n",
              "      <td>உலகம்</td>\n",
              "    </tr>\n",
              "    <tr>\n",
              "      <th>1</th>\n",
              "      <td>2018/Dec/55921-viswasam-s-rustic-folk-song-has...</td>\n",
              "      <td>இந்திய அளவில் ட்ரெண்ட் ஆன அஜித்தின் ‘தள்லே தில...</td>\n",
              "      <td>cinema</td>\n",
              "      <td>சினிமா</td>\n",
              "    </tr>\n",
              "    <tr>\n",
              "      <th>2</th>\n",
              "      <td>2018/Dec/55929-inspector-who-bought-insurance-...</td>\n",
              "      <td>சொந்த செலவில் வாகன காப்பீடு எடுத்து கொடுத்த கா...</td>\n",
              "      <td>tamilnadu</td>\n",
              "      <td>தமிழ்நாடு</td>\n",
              "    </tr>\n",
              "    <tr>\n",
              "      <th>3</th>\n",
              "      <td>2017/Jan/16161-morarji-desai-budget.txt</td>\n",
              "      <td>பிறந்தநாளில் பட்ஜெட் தாக்கல் செய்தவர்</td>\n",
              "      <td>india</td>\n",
              "      <td>இந்தியா</td>\n",
              "    </tr>\n",
              "    <tr>\n",
              "      <th>4</th>\n",
              "      <td>2018/Jun/46476-i-have-not-joined-bjp-or-anyoth...</td>\n",
              "      <td>“நானா? பாஜகவில் இணைந்துவிட்டேனா” - வரலட்சுமி வ...</td>\n",
              "      <td>cinema</td>\n",
              "      <td>சினிமா</td>\n",
              "    </tr>\n",
              "  </tbody>\n",
              "</table>\n",
              "</div>\n",
              "    <div class=\"colab-df-buttons\">\n",
              "\n",
              "  <div class=\"colab-df-container\">\n",
              "    <button class=\"colab-df-convert\" onclick=\"convertToInteractive('df-56094b65-a435-4058-995b-fe81f04c176c')\"\n",
              "            title=\"Convert this dataframe to an interactive table.\"\n",
              "            style=\"display:none;\">\n",
              "\n",
              "  <svg xmlns=\"http://www.w3.org/2000/svg\" height=\"24px\" viewBox=\"0 -960 960 960\">\n",
              "    <path d=\"M120-120v-720h720v720H120Zm60-500h600v-160H180v160Zm220 220h160v-160H400v160Zm0 220h160v-160H400v160ZM180-400h160v-160H180v160Zm440 0h160v-160H620v160ZM180-180h160v-160H180v160Zm440 0h160v-160H620v160Z\"/>\n",
              "  </svg>\n",
              "    </button>\n",
              "\n",
              "  <style>\n",
              "    .colab-df-container {\n",
              "      display:flex;\n",
              "      gap: 12px;\n",
              "    }\n",
              "\n",
              "    .colab-df-convert {\n",
              "      background-color: #E8F0FE;\n",
              "      border: none;\n",
              "      border-radius: 50%;\n",
              "      cursor: pointer;\n",
              "      display: none;\n",
              "      fill: #1967D2;\n",
              "      height: 32px;\n",
              "      padding: 0 0 0 0;\n",
              "      width: 32px;\n",
              "    }\n",
              "\n",
              "    .colab-df-convert:hover {\n",
              "      background-color: #E2EBFA;\n",
              "      box-shadow: 0px 1px 2px rgba(60, 64, 67, 0.3), 0px 1px 3px 1px rgba(60, 64, 67, 0.15);\n",
              "      fill: #174EA6;\n",
              "    }\n",
              "\n",
              "    .colab-df-buttons div {\n",
              "      margin-bottom: 4px;\n",
              "    }\n",
              "\n",
              "    [theme=dark] .colab-df-convert {\n",
              "      background-color: #3B4455;\n",
              "      fill: #D2E3FC;\n",
              "    }\n",
              "\n",
              "    [theme=dark] .colab-df-convert:hover {\n",
              "      background-color: #434B5C;\n",
              "      box-shadow: 0px 1px 3px 1px rgba(0, 0, 0, 0.15);\n",
              "      filter: drop-shadow(0px 1px 2px rgba(0, 0, 0, 0.3));\n",
              "      fill: #FFFFFF;\n",
              "    }\n",
              "  </style>\n",
              "\n",
              "    <script>\n",
              "      const buttonEl =\n",
              "        document.querySelector('#df-56094b65-a435-4058-995b-fe81f04c176c button.colab-df-convert');\n",
              "      buttonEl.style.display =\n",
              "        google.colab.kernel.accessAllowed ? 'block' : 'none';\n",
              "\n",
              "      async function convertToInteractive(key) {\n",
              "        const element = document.querySelector('#df-56094b65-a435-4058-995b-fe81f04c176c');\n",
              "        const dataTable =\n",
              "          await google.colab.kernel.invokeFunction('convertToInteractive',\n",
              "                                                    [key], {});\n",
              "        if (!dataTable) return;\n",
              "\n",
              "        const docLinkHtml = 'Like what you see? Visit the ' +\n",
              "          '<a target=\"_blank\" href=https://colab.research.google.com/notebooks/data_table.ipynb>data table notebook</a>'\n",
              "          + ' to learn more about interactive tables.';\n",
              "        element.innerHTML = '';\n",
              "        dataTable['output_type'] = 'display_data';\n",
              "        await google.colab.output.renderOutput(dataTable, element);\n",
              "        const docLink = document.createElement('div');\n",
              "        docLink.innerHTML = docLinkHtml;\n",
              "        element.appendChild(docLink);\n",
              "      }\n",
              "    </script>\n",
              "  </div>\n",
              "\n",
              "\n",
              "<div id=\"df-ae84b3ea-c9da-40d4-b06f-331737d56ea9\">\n",
              "  <button class=\"colab-df-quickchart\" onclick=\"quickchart('df-ae84b3ea-c9da-40d4-b06f-331737d56ea9')\"\n",
              "            title=\"Suggest charts.\"\n",
              "            style=\"display:none;\">\n",
              "\n",
              "<svg xmlns=\"http://www.w3.org/2000/svg\" height=\"24px\"viewBox=\"0 0 24 24\"\n",
              "     width=\"24px\">\n",
              "    <g>\n",
              "        <path d=\"M19 3H5c-1.1 0-2 .9-2 2v14c0 1.1.9 2 2 2h14c1.1 0 2-.9 2-2V5c0-1.1-.9-2-2-2zM9 17H7v-7h2v7zm4 0h-2V7h2v10zm4 0h-2v-4h2v4z\"/>\n",
              "    </g>\n",
              "</svg>\n",
              "  </button>\n",
              "\n",
              "<style>\n",
              "  .colab-df-quickchart {\n",
              "    background-color: #E8F0FE;\n",
              "    border: none;\n",
              "    border-radius: 50%;\n",
              "    cursor: pointer;\n",
              "    display: none;\n",
              "    fill: #1967D2;\n",
              "    height: 32px;\n",
              "    padding: 0 0 0 0;\n",
              "    width: 32px;\n",
              "  }\n",
              "\n",
              "  .colab-df-quickchart:hover {\n",
              "    background-color: #E2EBFA;\n",
              "    box-shadow: 0px 1px 2px rgba(60, 64, 67, 0.3), 0px 1px 3px 1px rgba(60, 64, 67, 0.15);\n",
              "    fill: #174EA6;\n",
              "  }\n",
              "\n",
              "  [theme=dark] .colab-df-quickchart {\n",
              "    background-color: #3B4455;\n",
              "    fill: #D2E3FC;\n",
              "  }\n",
              "\n",
              "  [theme=dark] .colab-df-quickchart:hover {\n",
              "    background-color: #434B5C;\n",
              "    box-shadow: 0px 1px 3px 1px rgba(0, 0, 0, 0.15);\n",
              "    filter: drop-shadow(0px 1px 2px rgba(0, 0, 0, 0.3));\n",
              "    fill: #FFFFFF;\n",
              "  }\n",
              "</style>\n",
              "\n",
              "  <script>\n",
              "    async function quickchart(key) {\n",
              "      const charts = await google.colab.kernel.invokeFunction(\n",
              "          'suggestCharts', [key], {});\n",
              "    }\n",
              "    (() => {\n",
              "      let quickchartButtonEl =\n",
              "        document.querySelector('#df-ae84b3ea-c9da-40d4-b06f-331737d56ea9 button');\n",
              "      quickchartButtonEl.style.display =\n",
              "        google.colab.kernel.accessAllowed ? 'block' : 'none';\n",
              "    })();\n",
              "  </script>\n",
              "</div>\n",
              "    </div>\n",
              "  </div>\n"
            ]
          },
          "metadata": {},
          "execution_count": 5
        },
        {
          "output_type": "execute_result",
          "data": {
            "text/plain": [
              "(13955, 4)"
            ]
          },
          "metadata": {},
          "execution_count": 5
        }
      ]
    },
    {
      "cell_type": "code",
      "source": [
        "df.Category.unique()"
      ],
      "metadata": {
        "colab": {
          "base_uri": "https://localhost:8080/"
        },
        "id": "St3rT5kLAOqZ",
        "outputId": "3511ed46-5e84-4a53-d53c-eae5f62a74d6"
      },
      "execution_count": 6,
      "outputs": [
        {
          "output_type": "execute_result",
          "data": {
            "text/plain": [
              "array(['world', 'cinema', 'tamilnadu', 'india', 'politics', 'sports'],\n",
              "      dtype=object)"
            ]
          },
          "metadata": {},
          "execution_count": 6
        }
      ]
    },
    {
      "cell_type": "code",
      "source": [
        "df.Category = df.Category.replace('world', 1)\n",
        "df.Category = df.Category.replace('cinema', 2)\n",
        "df.Category = df.Category.replace('tamilnadu', 3)\n",
        "df.Category = df.Category.replace('india', 4)\n",
        "df.Category = df.Category.replace('politics', 5)\n",
        "df.Category = df.Category.replace('sports', 6)\n",
        "df.Category.head()"
      ],
      "metadata": {
        "colab": {
          "base_uri": "https://localhost:8080/"
        },
        "id": "KIWpy6nLAVN9",
        "outputId": "406e5324-8440-42db-d919-92fce38ad58d"
      },
      "execution_count": 7,
      "outputs": [
        {
          "output_type": "execute_result",
          "data": {
            "text/plain": [
              "0    1\n",
              "1    2\n",
              "2    3\n",
              "3    4\n",
              "4    2\n",
              "Name: Category, dtype: int64"
            ]
          },
          "metadata": {},
          "execution_count": 7
        }
      ]
    },
    {
      "cell_type": "code",
      "source": [
        "# The maximum number of words to be used. (most frequent)\n",
        "MAX_NB_WORDS = 32000\n",
        "# Max number of words in each complaint.\n",
        "MAX_SEQUENCE_LENGTH = 120\n",
        "# This is fixed.\n",
        "EMBEDDING_DIM = 100\n",
        "tokenizer = Tokenizer(num_words=MAX_NB_WORDS, filters='!\"#$%&()*+,-./:;<=>?@[\\]^_`{|}~', lower=False)\n",
        "tokenizer.fit_on_texts(df.NewsInTamil.values)\n",
        "word_index = tokenizer.word_index\n",
        "print('Found %s unique tokens.' % len(word_index))"
      ],
      "metadata": {
        "colab": {
          "base_uri": "https://localhost:8080/"
        },
        "id": "7KDXjQprAXNV",
        "outputId": "1c331b7c-d847-49f3-ab5c-7c908306202d"
      },
      "execution_count": 8,
      "outputs": [
        {
          "output_type": "stream",
          "name": "stdout",
          "text": [
            "Found 22904 unique tokens.\n"
          ]
        }
      ]
    },
    {
      "cell_type": "code",
      "source": [
        "X = tokenizer.texts_to_sequences(df.NewsInTamil.values)\n",
        "X = pad_sequences(X, maxlen=MAX_SEQUENCE_LENGTH)\n",
        "print('Shape of data tensor:', X.shape)"
      ],
      "metadata": {
        "colab": {
          "base_uri": "https://localhost:8080/"
        },
        "id": "fgjpxkIaAd9_",
        "outputId": "84e9a7f2-01de-4728-da56-26c31e9f93cd"
      },
      "execution_count": 9,
      "outputs": [
        {
          "output_type": "stream",
          "name": "stdout",
          "text": [
            "Shape of data tensor: (13955, 120)\n"
          ]
        }
      ]
    },
    {
      "cell_type": "code",
      "source": [
        "Y = pd.get_dummies(df.Category).values\n",
        "print('Shape of label tensor:', Y.shape)"
      ],
      "metadata": {
        "colab": {
          "base_uri": "https://localhost:8080/"
        },
        "id": "pmD9qBKHAg-7",
        "outputId": "6ccc96dc-5049-4681-bd19-dc8dab3f12d3"
      },
      "execution_count": 10,
      "outputs": [
        {
          "output_type": "stream",
          "name": "stdout",
          "text": [
            "Shape of label tensor: (13955, 6)\n"
          ]
        }
      ]
    },
    {
      "cell_type": "code",
      "source": [
        "train_features, test_features, train_labels, test_labels = train_test_split(X, Y, test_size=.10)"
      ],
      "metadata": {
        "id": "SsiBsJEOAkCw"
      },
      "execution_count": 11,
      "outputs": []
    },
    {
      "cell_type": "code",
      "source": [
        "model = Sequential()\n",
        "model.add(Embedding(MAX_NB_WORDS, EMBEDDING_DIM, input_length=X.shape[1]))\n",
        "model.add(SpatialDropout1D(0.2))\n",
        "model.add(LSTM(100, dropout=0.2, recurrent_dropout=0.2))\n",
        "model.add(Dense(6, activation='softmax'))\n",
        "model.compile(loss='categorical_crossentropy', optimizer='adam', metrics=['accuracy'])\n",
        "history = model.fit(train_features, train_labels, epochs=5, batch_size=32,validation_split=0.2)\n",
        "# Final evaluation of the model\n",
        "model_pred_train = model.predict(train_features)\n",
        "model_pred_test = model.predict(test_features)\n",
        "# print(classification_report(test_labels,model_pred_test))\n",
        "print('LSTM Recurrent Neural Network baseline: ' + str(roc_auc_score(train_labels, model_pred_train)))\n",
        "print('LSTM Recurrent Neural Network: ' + str(roc_auc_score(test_labels, model_pred_test)))"
      ],
      "metadata": {
        "colab": {
          "base_uri": "https://localhost:8080/"
        },
        "id": "wtp92CAJAlcJ",
        "outputId": "ac46f0f4-702f-4dbe-90ed-af8c091c7b17"
      },
      "execution_count": 12,
      "outputs": [
        {
          "output_type": "stream",
          "name": "stdout",
          "text": [
            "Epoch 1/5\n",
            "314/314 [==============================] - 153s 456ms/step - loss: 1.3505 - accuracy: 0.4733 - val_loss: 0.9429 - val_accuracy: 0.6509\n",
            "Epoch 2/5\n",
            "314/314 [==============================] - 130s 414ms/step - loss: 0.5571 - accuracy: 0.8070 - val_loss: 0.8286 - val_accuracy: 0.6971\n",
            "Epoch 3/5\n",
            "314/314 [==============================] - 132s 420ms/step - loss: 0.1860 - accuracy: 0.9433 - val_loss: 0.9060 - val_accuracy: 0.6994\n",
            "Epoch 4/5\n",
            "314/314 [==============================] - 129s 411ms/step - loss: 0.0683 - accuracy: 0.9806 - val_loss: 1.1499 - val_accuracy: 0.6927\n",
            "Epoch 5/5\n",
            "314/314 [==============================] - 125s 399ms/step - loss: 0.0309 - accuracy: 0.9910 - val_loss: 1.2613 - val_accuracy: 0.6907\n",
            "393/393 [==============================] - 20s 49ms/step\n",
            "44/44 [==============================] - 3s 75ms/step\n",
            "LSTM Recurrent Neural Network baseline: 0.9916618061081618\n",
            "LSTM Recurrent Neural Network: 0.9183777575413911\n"
          ]
        }
      ]
    },
    {
      "cell_type": "code",
      "source": [
        "model.save_weights('/content/drive/My Drive/tamil_news_classification.h5')\n"
      ],
      "metadata": {
        "id": "fkGV1lF_DsXA"
      },
      "execution_count": 13,
      "outputs": []
    },
    {
      "cell_type": "code",
      "source": [
        "plt.title('Loss')\n",
        "plt.plot(history.history['loss'], label='train')\n",
        "plt.plot(history.history['val_loss'], label='test')\n",
        "plt.legend()\n",
        "plt.show()\n",
        "plt.title('Accuracy')\n",
        "plt.plot(history.history['accuracy'], label='train')\n",
        "plt.plot(history.history['val_accuracy'], label='test')\n",
        "plt.legend()\n",
        "plt.show()"
      ],
      "metadata": {
        "colab": {
          "base_uri": "https://localhost:8080/",
          "height": 956
        },
        "id": "TTeDB3NRDylb",
        "outputId": "0e944c3b-eef5-4d71-c03e-165c17a607a4"
      },
      "execution_count": 14,
      "outputs": [
        {
          "output_type": "execute_result",
          "data": {
            "text/plain": [
              "Text(0.5, 1.0, 'Loss')"
            ]
          },
          "metadata": {},
          "execution_count": 14
        },
        {
          "output_type": "execute_result",
          "data": {
            "text/plain": [
              "[<matplotlib.lines.Line2D at 0x7e66b3c607f0>]"
            ]
          },
          "metadata": {},
          "execution_count": 14
        },
        {
          "output_type": "execute_result",
          "data": {
            "text/plain": [
              "[<matplotlib.lines.Line2D at 0x7e66b3c60ac0>]"
            ]
          },
          "metadata": {},
          "execution_count": 14
        },
        {
          "output_type": "execute_result",
          "data": {
            "text/plain": [
              "<matplotlib.legend.Legend at 0x7e66b3bfe5c0>"
            ]
          },
          "metadata": {},
          "execution_count": 14
        },
        {
          "output_type": "display_data",
          "data": {
            "text/plain": [
              "<Figure size 640x480 with 1 Axes>"
            ],
            "image/png": "[encoded data removed]"
          },
          "metadata": {}
        },
        {
          "output_type": "execute_result",
          "data": {
            "text/plain": [
              "Text(0.5, 1.0, 'Accuracy')"
            ]
          },
          "metadata": {},
          "execution_count": 14
        },
        {
          "output_type": "execute_result",
          "data": {
            "text/plain": [
              "[<matplotlib.lines.Line2D at 0x7e66b3b6a5c0>]"
            ]
          },
          "metadata": {},
          "execution_count": 14
        },
        {
          "output_type": "execute_result",
          "data": {
            "text/plain": [
              "[<matplotlib.lines.Line2D at 0x7e66b3b6a800>]"
            ]
          },
          "metadata": {},
          "execution_count": 14
        },
        {
          "output_type": "execute_result",
          "data": {
            "text/plain": [
              "<matplotlib.legend.Legend at 0x7e66b3bfdb10>"
            ]
          },
          "metadata": {},
          "execution_count": 14
        },
        {
          "output_type": "display_data",
          "data": {
            "text/plain": [
              "<Figure size 640x480 with 1 Axes>"
            ],
            "image/png": "[encoded data removed]"
          },
          "metadata": {}
        }
      ]
    },
    {
      "cell_type": "code",
      "source": [
        "news_input = input(\"Enter the news text: \")\n",
        "news = [news_input]\n",
        "seq = tokenizer.texts_to_sequences(news)\n",
        "padded = pad_sequences(seq, maxlen=MAX_SEQUENCE_LENGTH)\n",
        "pred = model.predict(padded)\n",
        "labels = ['world', 'cinema', 'tamilnadu', 'india', 'politics', 'sports']\n",
        "label = pred, labels[np.argmax(pred)]\n",
        "print(\"Primary Tag : \"+ label[1])"
      ],
      "metadata": {
        "colab": {
          "base_uri": "https://localhost:8080/"
        },
        "id": "cg3Zvln-D0oQ",
        "outputId": "5bad6fe3-c338-4469-e8b4-35d1db0ed4a8"
      },
      "execution_count": 17,
      "outputs": [
        {
          "output_type": "stream",
          "name": "stdout",
          "text": [
            "Enter the news text: ஒலிம்பிக் சாம்பியகின் அபாரமான ஆட்டம் தொடர்கிறது நீரஜ் சோப்ராவின் கிரீடத்தில் மற்றுமொரு மயிலிறகு\n",
            "1/1 [==============================] - 0s 40ms/step\n",
            "Primary Tag : sports\n"
          ]
        }
      ]
    },
    {
      "cell_type": "code",
      "source": [
        "probabilities = pred[0]\n",
        "category_probabilities = zip(labels, probabilities)\n",
        "sorted_probabilities = sorted(category_probabilities, key=lambda x: x[1], reverse=True)\n",
        "top_n = 3  # Number of top categories to display\n",
        "top_categories = sorted_probabilities[:top_n]\n",
        "\n",
        "print(f\"Top {top_n} Predicted Tags:\")\n",
        "for category, probability in top_categories:\n",
        "    print(f\"{category}: {probability:.4f}\")"
      ],
      "metadata": {
        "id": "eYWPjOpVwjMV",
        "colab": {
          "base_uri": "https://localhost:8080/"
        },
        "outputId": "57c2cbb6-3248-489b-9c2d-e60f560058c8"
      },
      "execution_count": 20,
      "outputs": [
        {
          "output_type": "stream",
          "name": "stdout",
          "text": [
            "Top 3 Predicted Tags:\n",
            "sports: 0.5120\n",
            "cinema: 0.3983\n",
            "world: 0.0716\n"
          ]
        }
      ]
    },
    {
      "cell_type": "code",
      "source": [],
      "metadata": {
        "id": "feUhNdriwj5F"
      },
      "execution_count": null,
      "outputs": []
    }
  ]
}